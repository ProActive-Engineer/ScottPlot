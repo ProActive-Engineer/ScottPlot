{
 "cells": [
  {
   "cell_type": "markdown",
   "metadata": {
    "dotnet_interactive": {
     "language": "csharp"
    },
    "vscode": {
     "languageId": "dotnet-interactive.csharp"
    }
   },
   "source": [
    "# ScottPlot Notebook Quickstart\n",
    "\n",
    "_How to use ScottPlot to plot data in a Jupyter / .NET Interactive notebook_"
   ]
  },
  {
   "cell_type": "code",
   "execution_count": null,
   "metadata": {
    "dotnet_interactive": {
     "language": "csharp"
    },
    "vscode": {
     "languageId": "dotnet-interactive.csharp"
    }
   },
   "outputs": [],
   "source": [
    "// Install the ScottPlot NuGet package\n",
    "#r \"nuget:ScottPlot\""
   ]
  },
  {
   "cell_type": "code",
   "execution_count": null,
   "metadata": {
    "dotnet_interactive": {
     "language": "csharp"
    },
    "vscode": {
     "languageId": "dotnet-interactive.csharp"
    }
   },
   "outputs": [],
   "source": [
    "// Plot some data\n",
    "double[] dataX = new double[] { 1, 2, 3, 4, 5 };\n",
    "double[] dataY = new double[] { 1, 4, 9, 16, 25 };\n",
    "var plt = new ScottPlot.Plot(400, 300);\n",
    "plt.AddScatter(dataX, dataY);\n",
    "\n",
    "// Render the plot as a Bitmap and display its data\n",
    "var bmp = plt.GetBitmap();\n",
    "var memStream = new System.IO.MemoryStream();\n",
    "bmp.Save(memStream, System.Drawing.Imaging.ImageFormat.Png);\n",
    "string base64str = Convert.ToBase64String(memStream.ToArray());\n",
    "var html = Microsoft.DotNet.Interactive.Formatting.PocketViewTags.img[src: \"data:image/png;base64,\" + base64str];\n",
    "//Console.WriteLine(html);\n",
    "display(html);"
   ]
  },
  {
   "cell_type": "code",
   "execution_count": null,
   "metadata": {
    "dotnet_interactive": {
     "language": "csharp"
    },
    "vscode": {
     "languageId": "dotnet-interactive.csharp"
    }
   },
   "outputs": [],
   "source": []
  }
 ],
 "metadata": {
  "kernelspec": {
   "display_name": ".NET (C#)",
   "language": "C#",
   "name": ".net-csharp"
  },
  "language_info": {
   "file_extension": ".cs",
   "mimetype": "text/x-csharp",
   "name": "C#",
   "pygments_lexer": "csharp",
   "version": "9.0"
  },
  "orig_nbformat": 4
 },
 "nbformat": 4,
 "nbformat_minor": 2
}
